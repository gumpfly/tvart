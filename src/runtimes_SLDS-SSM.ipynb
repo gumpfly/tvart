{
 "cells": [
  {
   "cell_type": "code",
   "execution_count": 1,
   "metadata": {},
   "outputs": [],
   "source": [
    "from ssm.models import SLDS\n",
    "from ssm.emissions import GaussianIdentityEmissions\n",
    "from ssm.variational import SLDSMeanFieldVariationalPosterior, \\\n",
    "    SLDSTriDiagVariationalPosterior\n",
    "import numpy as np\n",
    "import scipy.io\n",
    "import scipy.signal\n",
    "from pybasicbayes.util.text import progprint_xrange\n",
    "import matplotlib.pyplot as plt\n",
    "from ssm.util import random_rotation, find_permutation\n",
    "import pandas as pd\n",
    "import time"
   ]
  },
  {
   "cell_type": "code",
   "execution_count": 2,
   "metadata": {},
   "outputs": [],
   "source": [
    "N_array = [100,1000,2000,4000]\n",
    "Kmax = 4\n",
    "rank = 6\n",
    "table_file = \"runtimes_output.csv\"\n",
    "rtol = 1e-4"
   ]
  },
  {
   "cell_type": "code",
   "execution_count": 11,
   "metadata": {},
   "outputs": [],
   "source": [
    "def fit_slds_and_return_errors(X, A1, A2, Kmax=2, r=6, num_iters=2000):\n",
    "    '''\n",
    "    Fit an SLDS to test data and return errors.\n",
    "    \n",
    "    Parameters\n",
    "    ==========\n",
    "    \n",
    "    X : array, T x N\n",
    "    A1 : array, N x N\n",
    "    A2 : array, N x N\n",
    "    '''\n",
    "    from numpy.linalg import norm\n",
    "    # params\n",
    "    N = X.shape[1]\n",
    "    T = X.shape[0]\n",
    "    # fit a model\n",
    "    slds = SLDS(N, Kmax, r)\n",
    "    slds.initialize(X)\n",
    "    q_mf = SLDSMeanFieldVariationalPosterior(slds, X)\n",
    "    q_mf_elbos = slds.fit(q_mf, X, num_iters=num_iters, initialize=False)\n",
    "    q_mf_x = q_mf.mean[0]\n",
    "    # predict states\n",
    "    true_states = np.array([0 if i < T/2 else 1 for i in range(T)])\n",
    "    slds.permute(find_permutation(true_states, slds.most_likely_states(q_mf_x, X), 2, Kmax))\n",
    "    pred_states = slds.most_likely_states(q_mf_x, X)\n",
    "    print(\"predicted states:\")\n",
    "    print(pred_states)\n",
    "    # extract predicted A1, A2 matrices\n",
    "    A_r = slds.dynamics.As\n",
    "    b_r = slds.dynamics.bs\n",
    "    Cs = slds.emissions.Cs[0]\n",
    "    A1_pred = Cs @ A_r[0] @ np.linalg.pinv(Cs)\n",
    "    A2_pred = Cs @ A_r[1] @ np.linalg.pinv(Cs)\n",
    "    # compare inferred and true\n",
    "    #err_inf = 0.5 * (np.max(np.abs(A1_pred[:] - A1[:])) + \\\n",
    "    #                 np.max(np.abs(A2_pred[:] - A2[:])))\n",
    "    #err_2 = 0.5 * (norm(A1_pred - A1, 2) + \\\n",
    "    #               norm(A2_pred - A2, 2))\n",
    "    #err_fro = 0.5 * (norm(A1_pred - A1, 'fro') + \\\n",
    "    #                 norm(A2_pred - A2, 'fro'))\n",
    "    err_mse = 0.\n",
    "    err_inf = 0.\n",
    "    err_2 = 0.\n",
    "    err_fro = 0.\n",
    "    for t in range(T-1):\n",
    "        if true_states[t] == 0:\n",
    "            A_true = A1\n",
    "        else:\n",
    "            A_true = A2\n",
    "        A_r = slds.dynamics.As[pred_states[t]]\n",
    "        A_pred = Cs @ A_r @ np.linalg.pinv(Cs)\n",
    "        xpred = A_pred @ X[t, :].T + Cs @ b_r[pred_states[t]]\n",
    "        err_mse += norm(xpred - X[t+1, :], 2)**2\n",
    "        err_inf += np.max(np.abs(A_pred[:] - A_true[:]))\n",
    "        err_2 += norm(A_pred - A_true, 2)\n",
    "        err_fro += norm(A_pred - A_true, 'fro')\n",
    "    err_mse /= float(N * (T - 1))\n",
    "    err_inf /= float(T - 1)\n",
    "    err_2 /= float(T - 1)\n",
    "    err_fro /= float(T - 1)\n",
    "    return (err_inf, err_2, err_fro, err_mse)"
   ]
  },
  {
   "cell_type": "markdown",
   "metadata": {},
   "source": [
    "## Fit SLDS with rank r = 4"
   ]
  },
  {
   "cell_type": "code",
   "execution_count": 4,
   "metadata": {},
   "outputs": [
    {
     "name": "stdout",
     "output_type": "stream",
     "text": [
      "Initializing with an ARHMM using 25 steps of EM.\n"
     ]
    },
    {
     "data": {
      "application/vnd.jupyter.widget-view+json": {
       "model_id": "b3d2f71474994ed19372c930e65be945",
       "version_major": 2,
       "version_minor": 0
      },
      "text/plain": [
       "HBox(children=(IntProgress(value=0, max=25), HTML(value='')))"
      ]
     },
     "metadata": {},
     "output_type": "display_data"
    },
    {
     "name": "stdout",
     "output_type": "stream",
     "text": [
      "\n"
     ]
    },
    {
     "data": {
      "application/vnd.jupyter.widget-view+json": {
       "model_id": "cfc34ec02c174d52942b42cb36ec615e",
       "version_major": 2,
       "version_minor": 0
      },
      "text/plain": [
       "HBox(children=(IntProgress(value=0, max=6000), HTML(value='')))"
      ]
     },
     "metadata": {},
     "output_type": "display_data"
    },
    {
     "name": "stderr",
     "output_type": "stream",
     "text": [
      "/home/kamdh/local/anaconda3/lib/python3.6/site-packages/autograd/numpy/numpy_vjps.py:444: FutureWarning: Using a non-tuple sequence for multidimensional indexing is deprecated; use `arr[tuple(seq)]` instead of `arr[seq]`. In the future this will be interpreted as an array index, `arr[np.array(seq)]`, which will result either in an error or a different result.\n",
      "  return lambda g: g[idxs]\n"
     ]
    },
    {
     "name": "stdout",
     "output_type": "stream",
     "text": [
      "\n",
      "N = 100 : err_inf = 0.057526, err_2 = 0.758076, err_fro = 0.931098, err_mse = 0.259156\n",
      "Initializing with an ARHMM using 25 steps of EM.\n"
     ]
    },
    {
     "data": {
      "application/vnd.jupyter.widget-view+json": {
       "model_id": "4424e64c0f934191a894313f7f606b10",
       "version_major": 2,
       "version_minor": 0
      },
      "text/plain": [
       "HBox(children=(IntProgress(value=0, max=25), HTML(value='')))"
      ]
     },
     "metadata": {},
     "output_type": "display_data"
    },
    {
     "name": "stdout",
     "output_type": "stream",
     "text": [
      "\n"
     ]
    },
    {
     "data": {
      "application/vnd.jupyter.widget-view+json": {
       "model_id": "53a9d68704584e139cac2f58ef4b965b",
       "version_major": 2,
       "version_minor": 0
      },
      "text/plain": [
       "HBox(children=(IntProgress(value=1, bar_style='info', max=1), HTML(value='')))"
      ]
     },
     "metadata": {},
     "output_type": "display_data"
    },
    {
     "name": "stdout",
     "output_type": "stream",
     "text": [
      "\n",
      "Initializing with an ARHMM using 25 steps of EM.\n"
     ]
    },
    {
     "data": {
      "application/vnd.jupyter.widget-view+json": {
       "model_id": "0d9c39859b614903a4aa13c07e1efc52",
       "version_major": 2,
       "version_minor": 0
      },
      "text/plain": [
       "HBox(children=(IntProgress(value=0, max=25), HTML(value='')))"
      ]
     },
     "metadata": {},
     "output_type": "display_data"
    },
    {
     "name": "stdout",
     "output_type": "stream",
     "text": [
      "\n"
     ]
    },
    {
     "data": {
      "application/vnd.jupyter.widget-view+json": {
       "model_id": "8726a675985847728c14aadc6c7b4917",
       "version_major": 2,
       "version_minor": 0
      },
      "text/plain": [
       "HBox(children=(IntProgress(value=0, max=6000), HTML(value='')))"
      ]
     },
     "metadata": {},
     "output_type": "display_data"
    },
    {
     "name": "stderr",
     "output_type": "stream",
     "text": [
      "/home/kamdh/local/anaconda3/lib/python3.6/site-packages/autograd/numpy/numpy_vjps.py:444: FutureWarning: Using a non-tuple sequence for multidimensional indexing is deprecated; use `arr[tuple(seq)]` instead of `arr[seq]`. In the future this will be interpreted as an array index, `arr[np.array(seq)]`, which will result either in an error or a different result.\n",
      "  return lambda g: g[idxs]\n"
     ]
    },
    {
     "name": "stdout",
     "output_type": "stream",
     "text": [
      "\n",
      "N = 1000 : err_inf = 0.063307, err_2 = 7.394672, err_fro = 7.517343, err_mse = 0.252865\n",
      "Initializing with an ARHMM using 25 steps of EM.\n"
     ]
    },
    {
     "data": {
      "application/vnd.jupyter.widget-view+json": {
       "model_id": "61c6e5a5bd4943a19f3987ef1eda4abb",
       "version_major": 2,
       "version_minor": 0
      },
      "text/plain": [
       "HBox(children=(IntProgress(value=0, max=25), HTML(value='')))"
      ]
     },
     "metadata": {},
     "output_type": "display_data"
    },
    {
     "name": "stdout",
     "output_type": "stream",
     "text": [
      "\n"
     ]
    },
    {
     "data": {
      "application/vnd.jupyter.widget-view+json": {
       "model_id": "7a8c65c98b204804899af035198e64f3",
       "version_major": 2,
       "version_minor": 0
      },
      "text/plain": [
       "HBox(children=(IntProgress(value=0, max=1504), HTML(value='')))"
      ]
     },
     "metadata": {},
     "output_type": "display_data"
    },
    {
     "name": "stderr",
     "output_type": "stream",
     "text": [
      "/home/kamdh/local/anaconda3/lib/python3.6/site-packages/autograd/numpy/numpy_vjps.py:444: FutureWarning: Using a non-tuple sequence for multidimensional indexing is deprecated; use `arr[tuple(seq)]` instead of `arr[seq]`. In the future this will be interpreted as an array index, `arr[np.array(seq)]`, which will result either in an error or a different result.\n",
      "  return lambda g: g[idxs]\n"
     ]
    },
    {
     "name": "stdout",
     "output_type": "stream",
     "text": [
      "\n",
      "Initializing with an ARHMM using 25 steps of EM.\n"
     ]
    },
    {
     "data": {
      "application/vnd.jupyter.widget-view+json": {
       "model_id": "82c8e108e26546b18c2628d5f44fb97d",
       "version_major": 2,
       "version_minor": 0
      },
      "text/plain": [
       "HBox(children=(IntProgress(value=0, max=25), HTML(value='')))"
      ]
     },
     "metadata": {},
     "output_type": "display_data"
    },
    {
     "name": "stdout",
     "output_type": "stream",
     "text": [
      "\n"
     ]
    },
    {
     "data": {
      "application/vnd.jupyter.widget-view+json": {
       "model_id": "d2367321bf27404ba3c4f3269aae6b5d",
       "version_major": 2,
       "version_minor": 0
      },
      "text/plain": [
       "HBox(children=(IntProgress(value=0, max=6000), HTML(value='')))"
      ]
     },
     "metadata": {},
     "output_type": "display_data"
    },
    {
     "name": "stderr",
     "output_type": "stream",
     "text": [
      "/home/kamdh/local/anaconda3/lib/python3.6/site-packages/autograd/numpy/numpy_vjps.py:444: FutureWarning: Using a non-tuple sequence for multidimensional indexing is deprecated; use `arr[tuple(seq)]` instead of `arr[seq]`. In the future this will be interpreted as an array index, `arr[np.array(seq)]`, which will result either in an error or a different result.\n",
      "  return lambda g: g[idxs]\n"
     ]
    },
    {
     "name": "stdout",
     "output_type": "stream",
     "text": [
      "\n",
      "N = 2000 : err_inf = 0.012568, err_2 = 2.639015, err_fro = 2.849744, err_mse = 0.252006\n",
      "Initializing with an ARHMM using 25 steps of EM.\n"
     ]
    },
    {
     "data": {
      "application/vnd.jupyter.widget-view+json": {
       "model_id": "d45776374d9e4747a9cb271321a9db08",
       "version_major": 2,
       "version_minor": 0
      },
      "text/plain": [
       "HBox(children=(IntProgress(value=0, max=25), HTML(value='')))"
      ]
     },
     "metadata": {},
     "output_type": "display_data"
    },
    {
     "name": "stdout",
     "output_type": "stream",
     "text": [
      "\n"
     ]
    },
    {
     "data": {
      "application/vnd.jupyter.widget-view+json": {
       "model_id": "db9555a859f04f10853ec7fffea693c6",
       "version_major": 2,
       "version_minor": 0
      },
      "text/plain": [
       "HBox(children=(IntProgress(value=0, max=2289), HTML(value='')))"
      ]
     },
     "metadata": {},
     "output_type": "display_data"
    },
    {
     "name": "stderr",
     "output_type": "stream",
     "text": [
      "/home/kamdh/local/anaconda3/lib/python3.6/site-packages/autograd/numpy/numpy_vjps.py:444: FutureWarning: Using a non-tuple sequence for multidimensional indexing is deprecated; use `arr[tuple(seq)]` instead of `arr[seq]`. In the future this will be interpreted as an array index, `arr[np.array(seq)]`, which will result either in an error or a different result.\n",
      "  return lambda g: g[idxs]\n"
     ]
    },
    {
     "name": "stdout",
     "output_type": "stream",
     "text": [
      "\n",
      "Initializing with an ARHMM using 25 steps of EM.\n"
     ]
    },
    {
     "data": {
      "application/vnd.jupyter.widget-view+json": {
       "model_id": "45ec16eea644416898a249ea174e9558",
       "version_major": 2,
       "version_minor": 0
      },
      "text/plain": [
       "HBox(children=(IntProgress(value=0, max=25), HTML(value='')))"
      ]
     },
     "metadata": {},
     "output_type": "display_data"
    },
    {
     "name": "stdout",
     "output_type": "stream",
     "text": [
      "\n"
     ]
    },
    {
     "data": {
      "application/vnd.jupyter.widget-view+json": {
       "model_id": "f76f9dcbe6c4467395d913218fe8b4f1",
       "version_major": 2,
       "version_minor": 0
      },
      "text/plain": [
       "HBox(children=(IntProgress(value=0, max=6000), HTML(value='')))"
      ]
     },
     "metadata": {},
     "output_type": "display_data"
    },
    {
     "name": "stderr",
     "output_type": "stream",
     "text": [
      "/home/kamdh/local/anaconda3/lib/python3.6/site-packages/autograd/numpy/numpy_vjps.py:444: FutureWarning: Using a non-tuple sequence for multidimensional indexing is deprecated; use `arr[tuple(seq)]` instead of `arr[seq]`. In the future this will be interpreted as an array index, `arr[np.array(seq)]`, which will result either in an error or a different result.\n",
      "  return lambda g: g[idxs]\n"
     ]
    },
    {
     "name": "stdout",
     "output_type": "stream",
     "text": [
      "\n",
      "N = 4000 : err_inf = 0.014811, err_2 = 4.169348, err_fro = 4.320884, err_mse = 0.252045\n",
      "Initializing with an ARHMM using 25 steps of EM.\n"
     ]
    },
    {
     "data": {
      "application/vnd.jupyter.widget-view+json": {
       "model_id": "95a1dfe4a7be4bbfa7314e01b5d02459",
       "version_major": 2,
       "version_minor": 0
      },
      "text/plain": [
       "HBox(children=(IntProgress(value=0, max=25), HTML(value='')))"
      ]
     },
     "metadata": {},
     "output_type": "display_data"
    },
    {
     "name": "stdout",
     "output_type": "stream",
     "text": [
      "\n"
     ]
    },
    {
     "data": {
      "application/vnd.jupyter.widget-view+json": {
       "model_id": "2fe5d317a47b4752981dbd2d700c1f8e",
       "version_major": 2,
       "version_minor": 0
      },
      "text/plain": [
       "HBox(children=(IntProgress(value=0, max=3045), HTML(value='')))"
      ]
     },
     "metadata": {},
     "output_type": "display_data"
    },
    {
     "name": "stderr",
     "output_type": "stream",
     "text": [
      "/home/kamdh/local/anaconda3/lib/python3.6/site-packages/autograd/numpy/numpy_vjps.py:444: FutureWarning: Using a non-tuple sequence for multidimensional indexing is deprecated; use `arr[tuple(seq)]` instead of `arr[seq]`. In the future this will be interpreted as an array index, `arr[np.array(seq)]`, which will result either in an error or a different result.\n",
      "  return lambda g: g[idxs]\n"
     ]
    },
    {
     "name": "stdout",
     "output_type": "stream",
     "text": [
      "\n"
     ]
    }
   ],
   "source": [
    "runtimes_list = []\n",
    "coef_b, coef_a = scipy.signal.butter(2, 1/100.)\n",
    "\n",
    "for N in N_array:\n",
    "    data = scipy.io.loadmat(\"test_data_N_%d_M_221_sigma_0.500000.mat\" % N)\n",
    "    X = data['X']\n",
    "    A1 = data['A1']\n",
    "    A2 = data['A2']\n",
    "    elbos, err_inf, err_2, err_fro, err_mse = \\\n",
    "        fit_slds_and_return_errors(X.T, A1, A2, Kmax=Kmax, r=rank, num_iters=6000)\n",
    "    print(\"N = %d : err_inf = %f, err_2 = %f, err_fro = %f, err_mse = %f\" % \\\n",
    "           (N, err_inf, err_2, err_fro, err_mse))\n",
    "    data = scipy.signal.filtfilt(coef_b, coef_a, np.array(elbos))\n",
    "    rel_chg = np.abs(np.diff(data)) / np.abs(data[1:])\n",
    "    stop_iter = np.where(rel_chg < rtol)[0][0]\n",
    "    t0 = time.time()\n",
    "    elbos, err_inf, err_2, err_fro, err_mse = \\\n",
    "        fit_slds_and_return_errors(X.T, A1, A2, Kmax=Kmax, r=rank, num_iters=stop_iter)\n",
    "    tf = time.time()\n",
    "    runtimes_list.append(tf - t0)\n"
   ]
  },
  {
   "cell_type": "code",
   "execution_count": 5,
   "metadata": {},
   "outputs": [
    {
     "data": {
      "text/plain": [
       "[<matplotlib.lines.Line2D at 0x7f582c145208>]"
      ]
     },
     "execution_count": 5,
     "metadata": {},
     "output_type": "execute_result"
    },
    {
     "data": {
      "image/png": "[encoded data removed]",
      "text/plain": [
       "<Figure size 432x288 with 1 Axes>"
      ]
     },
     "metadata": {
      "needs_background": "light"
     },
     "output_type": "display_data"
    }
   ],
   "source": [
    "plt.loglog(N_array, runtimes_list)"
   ]
  },
  {
   "cell_type": "code",
   "execution_count": 6,
   "metadata": {
    "scrolled": true
   },
   "outputs": [
    {
     "data": {
      "text/plain": [
       "[<matplotlib.lines.Line2D at 0x7f5810e3f4a8>]"
      ]
     },
     "execution_count": 6,
     "metadata": {},
     "output_type": "execute_result"
    },
    {
     "data": {
      "image/png": "[encoded data removed]",
      "text/plain": [
       "<Figure size 432x288 with 1 Axes>"
      ]
     },
     "metadata": {
      "needs_background": "light"
     },
     "output_type": "display_data"
    }
   ],
   "source": [
    "from sklearn.isotonic import IsotonicRegression\n",
    "\n",
    "ir = IsotonicRegression()\n",
    "\n",
    "elbos = np.array(elbos)\n",
    "steps = np.arange(len(elbos))\n",
    "\n",
    "\n",
    "y_ = ir.fit_transform(steps, elbos)\n",
    "plt.plot(elbos)\n",
    "plt.plot(y_)\n"
   ]
  },
  {
   "cell_type": "code",
   "execution_count": 7,
   "metadata": {},
   "outputs": [
    {
     "data": {
      "text/plain": [
       "[<matplotlib.lines.Line2D at 0x7f5810dc3160>]"
      ]
     },
     "execution_count": 7,
     "metadata": {},
     "output_type": "execute_result"
    },
    {
     "data": {
      "image/png": "[encoded data removed]",
      "text/plain": [
       "<Figure size 432x288 with 1 Axes>"
      ]
     },
     "metadata": {
      "needs_background": "light"
     },
     "output_type": "display_data"
    }
   ],
   "source": [
    "rel_chg = np.abs(np.diff(data)) / np.abs(data[1:])\n",
    "plt.semilogy(rel_chg)"
   ]
  },
  {
   "cell_type": "code",
   "execution_count": 8,
   "metadata": {},
   "outputs": [
    {
     "data": {
      "text/plain": [
       "True"
      ]
     },
     "execution_count": 8,
     "metadata": {},
     "output_type": "execute_result"
    }
   ],
   "source": [
    "np.where(rel_chg < 1e-4)[0][0] == len(elbos) - 1"
   ]
  },
  {
   "cell_type": "code",
   "execution_count": 9,
   "metadata": {},
   "outputs": [
    {
     "data": {
      "text/plain": [
       "[0.17250823974609375,\n",
       " 176.41844081878662,\n",
       " 463.50796723365784,\n",
       " 1411.1103212833405]"
      ]
     },
     "execution_count": 9,
     "metadata": {},
     "output_type": "execute_result"
    }
   ],
   "source": [
    "runtimes_list"
   ]
  },
  {
   "cell_type": "code",
   "execution_count": 10,
   "metadata": {},
   "outputs": [
    {
     "name": "stdout",
     "output_type": "stream",
     "text": [
      "Help on function savemat in module scipy.io.matlab.mio:\n",
      "\n",
      "savemat(file_name, mdict, appendmat=True, format='5', long_field_names=False, do_compression=False, oned_as='row')\n",
      "    Save a dictionary of names and arrays into a MATLAB-style .mat file.\n",
      "    \n",
      "    This saves the array objects in the given dictionary to a MATLAB-\n",
      "    style .mat file.\n",
      "    \n",
      "    Parameters\n",
      "    ----------\n",
      "    file_name : str or file-like object\n",
      "        Name of the .mat file (.mat extension not needed if ``appendmat ==\n",
      "        True``).\n",
      "        Can also pass open file_like object.\n",
      "    mdict : dict\n",
      "        Dictionary from which to save matfile variables.\n",
      "    appendmat : bool, optional\n",
      "        True (the default) to append the .mat extension to the end of the\n",
      "        given filename, if not already present.\n",
      "    format : {'5', '4'}, string, optional\n",
      "        '5' (the default) for MATLAB 5 and up (to 7.2),\n",
      "        '4' for MATLAB 4 .mat files.\n",
      "    long_field_names : bool, optional\n",
      "        False (the default) - maximum field name length in a structure is\n",
      "        31 characters which is the documented maximum length.\n",
      "        True - maximum field name length in a structure is 63 characters\n",
      "        which works for MATLAB 7.6+.\n",
      "    do_compression : bool, optional\n",
      "        Whether or not to compress matrices on write.  Default is False.\n",
      "    oned_as : {'row', 'column'}, optional\n",
      "        If 'column', write 1-D numpy arrays as column vectors.\n",
      "        If 'row', write 1-D numpy arrays as row vectors.\n",
      "    \n",
      "    See also\n",
      "    --------\n",
      "    mio4.MatFile4Writer\n",
      "    mio5.MatFile5Writer\n",
      "\n"
     ]
    }
   ],
   "source": [
    "scipy.io.savemat(\"runtimes_python.mat\", {'N_array': N_array, 'runtimes': runtimes_list})\n",
    "help(scipy.io.savemat)"
   ]
  },
  {
   "cell_type": "code",
   "execution_count": null,
   "metadata": {},
   "outputs": [],
   "source": []
  }
 ],
 "metadata": {
  "kernelspec": {
   "display_name": "Python 3",
   "language": "python",
   "name": "python3"
  },
  "language_info": {
   "codemirror_mode": {
    "name": "ipython",
    "version": 3
   },
   "file_extension": ".py",
   "mimetype": "text/x-python",
   "name": "python",
   "nbconvert_exporter": "python",
   "pygments_lexer": "ipython3",
   "version": "3.6.8"
  }
 },
 "nbformat": 4,
 "nbformat_minor": 2
}
